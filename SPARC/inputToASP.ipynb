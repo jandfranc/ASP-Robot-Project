{
 "cells": [
  {
   "cell_type": "code",
   "execution_count": 6,
   "metadata": {},
   "outputs": [],
   "source": [
    "import numpy as np\n"
   ]
  },
  {
   "cell_type": "code",
   "execution_count": 92,
   "metadata": {},
   "outputs": [],
   "source": [
    "def initAnswerSet(size = [5,5]):\n",
    "#im dumb and columns and rows are the wrong way around\n",
    "    i_row = size[0]\n",
    "    i_col = size[1]\n",
    "    i = -1\n",
    "    array = np.empty(size, dtype='object')\n",
    "    \n",
    "    ASPInput = []\n",
    "\n",
    "    for n_row in range(i_row):\n",
    "        for n_col in range(i_col):\n",
    "            i+=1\n",
    "            array[n_row][n_col] = f'x{i}'\n",
    "            \n",
    "    for n_row in range(i_row):\n",
    "        for n_col in range(i_col):\n",
    "            if n_row == 0 and n_col == 0:\n",
    "              ASPInput.append(f'holds(adjacent({array[n_row,n_col]}, {array[n_row+1,n_col]}),0).') \n",
    "              ASPInput.append(f'holds(adjacent({array[n_row,n_col]}, {array[n_row,n_col+1]}),0).')\n",
    "                \n",
    "            elif n_row == 0 and n_col == i_col-1:\n",
    "                ASPInput.append(f'holds(adjacent({array[n_row,n_col]}, {array[n_row+1,n_col]}),0).') \n",
    "                ASPInput.append(f'holds(adjacent({array[n_row,n_col]}, {array[n_row,n_col-1]}),0).')\n",
    "                \n",
    "            elif n_row == i_row-1 and n_col == 0:\n",
    "                ASPInput.append(f'holds(adjacent({array[n_row,n_col]}, {array[n_row-1,n_col]}),0).') \n",
    "                ASPInput.append(f'holds(adjacent({array[n_row,n_col]}, {array[n_row,n_col+1]}),0).')\n",
    "                \n",
    "            elif n_row == i_row-1 and n_col == i_col-1:\n",
    "                ASPInput.append(f'holds(adjacent({array[n_row,n_col]}, {array[n_row-1,n_col]}),0).') \n",
    "                ASPInput.append(f'holds(adjacent({array[n_row,n_col]}, {array[n_row,n_col-1]}),0).')\n",
    "            \n",
    "            elif n_row == 0:\n",
    "                ASPInput.append(f'holds(adjacent({array[n_row,n_col]}, {array[n_row+1,n_col]}),0).') \n",
    "                ASPInput.append(f'holds(adjacent({array[n_row,n_col]}, {array[n_row,n_col+1]}),0).')\n",
    "                ASPInput.append(f'holds(adjacent({array[n_row,n_col]}, {array[n_row,n_col-1]}),0).') \n",
    "            \n",
    "            elif n_col == 0:\n",
    "                ASPInput.append(f'holds(adjacent({array[n_row,n_col]}, {array[n_row+1,n_col]}),0).') \n",
    "                ASPInput.append(f'holds(adjacent({array[n_row,n_col]}, {array[n_row,n_col+1]}),0).')\n",
    "                ASPInput.append(f'holds(adjacent({array[n_row,n_col]}, {array[n_row-1,n_col]}),0).') \n",
    "            \n",
    "            elif n_row == i_row-1:\n",
    "                ASPInput.append(f'holds(adjacent({array[n_row,n_col]}, {array[n_row-1,n_col]}),0).') \n",
    "                ASPInput.append(f'holds(adjacent({array[n_row,n_col]}, {array[n_row,n_col+1]}),0).')\n",
    "                ASPInput.append(f'holds(adjacent({array[n_row,n_col]}, {array[n_row,n_col-1]}),0).')\n",
    "            \n",
    "            elif n_col == i_col-1:\n",
    "                ASPInput.append(f'holds(adjacent({array[n_row,n_col]}, {array[n_row+1,n_col]}),0).') \n",
    "                ASPInput.append(f'holds(adjacent({array[n_row,n_col]}, {array[n_row,n_col-1]}),0).')\n",
    "                ASPInput.append(f'holds(adjacent({array[n_row,n_col]}, {array[n_row-1,n_col]}),0).') \n",
    "            \n",
    "            else:\n",
    "                ASPInput.append(f'holds(adjacent({array[n_row,n_col]}, {array[n_row+1,n_col]}),0).') \n",
    "                ASPInput.append(f'holds(adjacent({array[n_row,n_col]}, {array[n_row,n_col+1]}),0).')\n",
    "                ASPInput.append(f'holds(adjacent({array[n_row,n_col]}, {array[n_row,n_col-1]}),0).')\n",
    "                ASPInput.append(f'holds(adjacent({array[n_row,n_col]}, {array[n_row-1,n_col]}),0).')\n",
    "    return ASPInput"
   ]
  }
 ],
 "metadata": {
  "kernelspec": {
   "display_name": "Python 3",
   "language": "python",
   "name": "python3"
  },
  "language_info": {
   "codemirror_mode": {
    "name": "ipython",
    "version": 3
   },
   "file_extension": ".py",
   "mimetype": "text/x-python",
   "name": "python",
   "nbconvert_exporter": "python",
   "pygments_lexer": "ipython3",
   "version": "3.7.3"
  }
 },
 "nbformat": 4,
 "nbformat_minor": 2
}
