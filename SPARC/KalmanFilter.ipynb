{
 "cells": [
  {
   "cell_type": "code",
   "execution_count": 1,
   "metadata": {},
   "outputs": [],
   "source": [
    "import numpy as np\n"
   ]
  },
  {
   "cell_type": "code",
   "execution_count": null,
   "metadata": {},
   "outputs": [],
   "source": []
  },
  {
   "cell_type": "code",
   "execution_count": 30,
   "metadata": {},
   "outputs": [],
   "source": [
    "def predictionStep(mean,covariance,transform,controlMatrix,controlVector,gaussNoise):\n",
    "    #mean is previous estimate.\n",
    "    \n",
    "    #covariance is previous covariance matrix\n",
    "    \n",
    "    #transform is matrix used to calculate stuff \n",
    "    #(i.e. using time +velocity to add to position to get new position)\n",
    "    \n",
    "    #controlMatrix is for external variables, such as acceleration, \n",
    "    #and other controlled vairables\n",
    "    \n",
    "    #controlVector is vector to multiply control matrix by this, with corresponding positions for correct calculations\n",
    "    \n",
    "    #gaussMean and gaussCov are used for calculating the gaussian covariance matrix noi\n",
    "\n",
    "    newMean = np.add(np.matmul(mean, transform),np.matmul(controlMatrix,controlVector))\n",
    "    \n",
    "    newCovariance = np.add(np.matmul(transform,covariance,np.transpose(transform)), gaussCovariance)\n",
    "    \n",
    "    return newMean, newCovariance\n",
    "    "
   ]
  },
  {
   "cell_type": "code",
   "execution_count": null,
   "metadata": {},
   "outputs": [],
   "source": [
    "\n",
    "    "
   ]
  },
  {
   "cell_type": "code",
   "execution_count": 31,
   "metadata": {},
   "outputs": [],
   "source": [
    "def updateStep(sensorModel,sensorRead,sensorNoiseCov,newMean,newCovariance):\n",
    "    \n",
    "    #equation 18 and 19 from https://www.bzarg.com/p/how-a-kalman-filter-works-in-pictures/\n",
    "    \n",
    "    kalmanGain_1 = np.multiply(newCovariance, np.transpose(sensorModel))\n",
    "    kalmanGain_2 = np.multiply(kalmanGain_1,np.add(kalmanGain_1, sensorNoiseCov))\n",
    "    \n",
    "    finalMean = np.add(newMean, np.multiply(kalmanGain_2,np.subtract(sensorRead, np.multiply(sensorModel,newMean))))\n",
    "    finalCovariance = np.subtract(newCovariance, np.multiply(kalmanGain_2,sensorModel,newCovariance))\n",
    "    return finalMean, finalCovariance\n",
    "    "
   ]
  },
  {
   "cell_type": "code",
   "execution_count": 61,
   "metadata": {},
   "outputs": [],
   "source": [
    "sensorReading = np.array([[0.5,0.425],[0.4,0.4],[0.3,0.1]])"
   ]
  },
  {
   "cell_type": "code",
   "execution_count": null,
   "metadata": {},
   "outputs": [],
   "source": []
  },
  {
   "cell_type": "code",
   "execution_count": null,
   "metadata": {},
   "outputs": [],
   "source": []
  },
  {
   "cell_type": "code",
   "execution_count": null,
   "metadata": {},
   "outputs": [],
   "source": [
    "\n"
   ]
  },
  {
   "cell_type": "code",
   "execution_count": null,
   "metadata": {},
   "outputs": [],
   "source": []
  },
  {
   "cell_type": "code",
   "execution_count": null,
   "metadata": {},
   "outputs": [],
   "source": []
  },
  {
   "cell_type": "code",
   "execution_count": null,
   "metadata": {},
   "outputs": [],
   "source": []
  },
  {
   "cell_type": "code",
   "execution_count": null,
   "metadata": {},
   "outputs": [],
   "source": []
  },
  {
   "cell_type": "code",
   "execution_count": null,
   "metadata": {},
   "outputs": [],
   "source": []
  },
  {
   "cell_type": "code",
   "execution_count": null,
   "metadata": {},
   "outputs": [],
   "source": []
  },
  {
   "cell_type": "code",
   "execution_count": null,
   "metadata": {},
   "outputs": [],
   "source": []
  }
 ],
 "metadata": {
  "kernelspec": {
   "display_name": "Python 3",
   "language": "python",
   "name": "python3"
  },
  "language_info": {
   "codemirror_mode": {
    "name": "ipython",
    "version": 3
   },
   "file_extension": ".py",
   "mimetype": "text/x-python",
   "name": "python",
   "nbconvert_exporter": "python",
   "pygments_lexer": "ipython3",
   "version": "3.7.3"
  }
 },
 "nbformat": 4,
 "nbformat_minor": 2
}
