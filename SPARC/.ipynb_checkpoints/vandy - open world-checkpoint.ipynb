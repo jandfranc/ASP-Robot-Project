{
 "cells": [
  {
   "cell_type": "code",
   "execution_count": 2,
   "metadata": {},
   "outputs": [],
   "source": [
    "import random\n",
    "import numpy as np\n",
    "import matplotlib.pyplot as plt"
   ]
  },
  {
   "cell_type": "code",
   "execution_count": 40,
   "metadata": {},
   "outputs": [],
   "source": [
    "world = np.random.randint(3,size = [10,10])"
   ]
  },
  {
   "cell_type": "code",
   "execution_count": 41,
   "metadata": {},
   "outputs": [
    {
     "data": {
      "text/plain": [
       "array([[1, 1, 0, 1, 1],\n",
       "       [0, 0, 0, 2, 0],\n",
       "       [2, 2, 2, 0, 1]])"
      ]
     },
     "execution_count": 41,
     "metadata": {},
     "output_type": "execute_result"
    }
   ],
   "source": [
    "world\n"
   ]
  },
  {
   "cell_type": "code",
   "execution_count": 80,
   "metadata": {},
   "outputs": [],
   "source": [
    "def initialiseWorld(size=[10,10],num_of_val=3):\n",
    "    world = np.random.randint(num_of_val,size = size)\n",
    "    area = size[0]*size[1]\n",
    "    initialProbability = np.full(np.shape(world),1/area)\n",
    "    return world, initialProbability\n",
    "    "
   ]
  },
  {
   "cell_type": "code",
   "execution_count": 101,
   "metadata": {},
   "outputs": [],
   "source": [
    "def moveRobot(location, world, moveProb = 0.9):\n",
    "    direction = random.randint(0,3)\n",
    "    worldSize = np.shape(world)\n",
    "    #0 is up, 1 is right, 2 is down, 3 is left\n",
    "    #returns the original location if impossible to move\n",
    "    if random.random() > moveProb or direction == 0 and location[0] == 0 or direction == 1 and location[1] == worldSize[1] or direction == 2 and location[0] == worldSize[0] or  direction == 3 and location[1] == 0:\n",
    "        location = location   \n",
    "        print('failed to move')\n",
    "    elif direction == 0:\n",
    "        location[0] -= 1   \n",
    "    elif direction == 1:\n",
    "        location[1] += 1\n",
    "    elif direction == 2:\n",
    "        location[0] += 1\n",
    "    elif direction == 3:\n",
    "        location[1] -= 1\n",
    "    \n",
    "    if direction == 0:\n",
    "        print('up')  \n",
    "    elif direction == 1:\n",
    "        print('right')  \n",
    "    elif direction == 2:\n",
    "        print('down')  \n",
    "    elif direction == 3:\n",
    "        print('left')  \n",
    "    \n",
    "    return location\n",
    "        \n",
    "        \n",
    "    \n",
    "    "
   ]
  },
  {
   "cell_type": "code",
   "execution_count": 111,
   "metadata": {},
   "outputs": [],
   "source": [
    "def estimateAfterMotion(worldProb, moveProb = 0.9):\n",
    "    failed_move_estimate = np.multiply(worldProb, 1-moveProb)\n",
    "    move_estimate = np.multiply(worldProb,moveProb)\n",
    "    return np.add(move_estimate,failed_move_estimate)"
   ]
  },
  {
   "cell_type": "code",
   "execution_count": 116,
   "metadata": {},
   "outputs": [
    {
     "name": "stdout",
     "output_type": "stream",
     "text": [
      "[[0 2 2 0 1]\n",
      " [2 2 2 1 2]\n",
      " [1 2 2 1 0]\n",
      " [2 1 2 2 0]\n",
      " [2 1 2 2 1]]\n",
      "[[0.04 0.04 0.04 0.04 0.04]\n",
      " [0.04 0.04 0.04 0.04 0.04]\n",
      " [0.04 0.04 0.04 0.04 0.04]\n",
      " [0.04 0.04 0.04 0.04 0.04]\n",
      " [0.04 0.04 0.04 0.04 0.04]]\n",
      "left\n",
      "[[0.04 0.04 0.04 0.04 0.04]\n",
      " [0.04 0.04 0.04 0.04 0.04]\n",
      " [0.04 0.04 0.04 0.04 0.04]\n",
      " [0.04 0.04 0.04 0.04 0.04]\n",
      " [0.04 0.04 0.04 0.04 0.04]]\n"
     ]
    }
   ],
   "source": [
    "world, worldProb = initialiseWorld([5,5])\n",
    "print(world)\n",
    "print(worldProb)\n",
    "s = moveRobot([3,3], world)\n",
    "worldProb = estimateAfterMotion(worldProb)\n",
    "worldProb = estimateAfterMotion(worldProb)\n",
    "worldProb = estimateAfterMotion(worldProb)\n",
    "worldProb = estimateAfterMotion(worldProb)\n",
    "worldProb = estimateAfterMotion(worldProb)\n",
    "worldProb = estimateAfterMotion(worldProb)\n",
    "worldProb = estimateAfterMotion(worldProb)\n",
    "worldProb = estimateAfterMotion(worldProb)\n",
    "print(worldProb)"
   ]
  },
  {
   "cell_type": "code",
   "execution_count": 38,
   "metadata": {},
   "outputs": [
    {
     "data": {
      "text/plain": [
       "0.7682184080983705"
      ]
     },
     "execution_count": 38,
     "metadata": {},
     "output_type": "execute_result"
    }
   ],
   "source": []
  },
  {
   "cell_type": "code",
   "execution_count": 39,
   "metadata": {},
   "outputs": [
    {
     "data": {
      "text/plain": [
       "(5, 5)"
      ]
     },
     "execution_count": 39,
     "metadata": {},
     "output_type": "execute_result"
    }
   ],
   "source": [
    "np.shape(world)"
   ]
  },
  {
   "cell_type": "code",
   "execution_count": null,
   "metadata": {},
   "outputs": [],
   "source": []
  }
 ],
 "metadata": {
  "kernelspec": {
   "display_name": "Python 3",
   "language": "python",
   "name": "python3"
  },
  "language_info": {
   "codemirror_mode": {
    "name": "ipython",
    "version": 3
   },
   "file_extension": ".py",
   "mimetype": "text/x-python",
   "name": "python",
   "nbconvert_exporter": "python",
   "pygments_lexer": "ipython3",
   "version": "3.7.3"
  }
 },
 "nbformat": 4,
 "nbformat_minor": 2
}
