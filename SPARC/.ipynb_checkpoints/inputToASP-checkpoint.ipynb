{
 "cells": [
  {
   "cell_type": "code",
   "execution_count": 6,
   "metadata": {},
   "outputs": [],
   "source": [
    "import numpy as np\n"
   ]
  },
  {
   "cell_type": "code",
   "execution_count": 78,
   "metadata": {},
   "outputs": [],
   "source": [
    "def initAnswerSet(size = [5,5]):\n",
    "#im dumb and columns and rows are the wrong way around\n",
    "    i_row = size[0]\n",
    "    i_col = size[1]\n",
    "    i = -1\n",
    "    array = np.empty(size, dtype='object')\n",
    "    \n",
    "    ASPInput = []\n",
    "\n",
    "    for n_row in range(i_row):\n",
    "        for n_col in range(i_col):\n",
    "            i+=1\n",
    "            array[n_row][n_col] = f'x{i}'\n",
    "\n",
    "    print(array)        \n",
    "    for n_row in range(i_row):\n",
    "        for n_col in range(i_col):\n",
    "            if n_row == 0 and n_col == 0:\n",
    "              ASPInput.append(f'holds(adjacent({array[n_row,n_col]}, {array[n_row+1,n_col]}),0).') \n",
    "              ASPInput.append(f'holds(adjacent({array[n_row,n_col]}, {array[n_row,n_col+1]}),0).')\n",
    "                \n",
    "            elif n_row == 0 and n_col == i_col-1:\n",
    "                ASPInput.append(f'holds(adjacent({array[n_row,n_col]}, {array[n_row+1,n_col]}),0).') \n",
    "                ASPInput.append(f'holds(adjacent({array[n_row,n_col]}, {array[n_row,n_col-1]}),0).')\n",
    "                \n",
    "            elif n_row == i_row-1 and n_col == 0:\n",
    "                ASPInput.append(f'holds(adjacent({array[n_row,n_col]}, {array[n_row-1,n_col]}),0).') \n",
    "                ASPInput.append(f'holds(adjacent({array[n_row,n_col]}, {array[n_row,n_col+1]}),0).')\n",
    "                \n",
    "            elif n_row == i_row-1 and n_col == i_col-1:\n",
    "                ASPInput.append(f'holds(adjacent({array[n_row,n_col]}, {array[n_row-1,n_col]}),0).') \n",
    "                ASPInput.append(f'holds(adjacent({array[n_row,n_col]}, {array[n_row,n_col-1]}),0).')\n",
    "            \n",
    "            elif n_row == 0:\n",
    "                ASPInput.append(f'holds(adjacent({array[n_row,n_col]}, {array[n_row+1,n_col]}),0).') \n",
    "                ASPInput.append(f'holds(adjacent({array[n_row,n_col]}, {array[n_row,n_col+1]}),0).')\n",
    "                ASPInput.append(f'holds(adjacent({array[n_row,n_col]}, {array[n_row,n_col-1]}),0).') \n",
    "            \n",
    "            elif n_col == 0:\n",
    "                ASPInput.append(f'holds(adjacent({array[n_row,n_col]}, {array[n_row+1,n_col]}),0).') \n",
    "                ASPInput.append(f'holds(adjacent({array[n_row,n_col]}, {array[n_row,n_col+1]}),0).')\n",
    "                ASPInput.append(f'holds(adjacent({array[n_row,n_col]}, {array[n_row-1,n_col]}),0).') \n",
    "            \n",
    "            elif n_row == i_row-1:\n",
    "                ASPInput.append(f'holds(adjacent({array[n_row,n_col]}, {array[n_row-1,n_col]}),0).') \n",
    "                ASPInput.append(f'holds(adjacent({array[n_row,n_col]}, {array[n_row,n_col+1]}),0).')\n",
    "                ASPInput.append(f'holds(adjacent({array[n_row,n_col]}, {array[n_row,n_col-1]}),0).')\n",
    "            \n",
    "            elif n_col == i_col-1:\n",
    "                ASPInput.append(f'holds(adjacent({array[n_row,n_col]}, {array[n_row+1,n_col]}),0).') \n",
    "                ASPInput.append(f'holds(adjacent({array[n_row,n_col]}, {array[n_row,n_col-1]}),0).')\n",
    "                ASPInput.append(f'holds(adjacent({array[n_row,n_col]}, {array[n_row-1,n_col]}),0).') \n",
    "            \n",
    "            else:\n",
    "                ASPInput.append(f'holds(adjacent({array[n_row,n_col]}, {array[n_row+1,n_col]}),0).') \n",
    "                ASPInput.append(f'holds(adjacent({array[n_row,n_col]}, {array[n_row,n_col+1]}),0).')\n",
    "                ASPInput.append(f'holds(adjacent({array[n_row,n_col]}, {array[n_row,n_col-1]}),0).')\n",
    "                ASPInput.append(f'holds(adjacent({array[n_row,n_col]}, {array[n_row-1,n_col]}),0).')\n",
    "    return ASPInput"
   ]
  },
  {
   "cell_type": "code",
   "execution_count": 80,
   "metadata": {},
   "outputs": [
    {
     "name": "stdout",
     "output_type": "stream",
     "text": [
      "[['x0' 'x1' 'x2' 'x3' 'x4']\n",
      " ['x5' 'x6' 'x7' 'x8' 'x9']\n",
      " ['x10' 'x11' 'x12' 'x13' 'x14']\n",
      " ['x15' 'x16' 'x17' 'x18' 'x19']\n",
      " ['x20' 'x21' 'x22' 'x23' 'x24']]\n"
     ]
    }
   ],
   "source": [
    "s = initAnswerSet()\n"
   ]
  },
  {
   "cell_type": "code",
   "execution_count": 69,
   "metadata": {},
   "outputs": [
    {
     "data": {
      "text/plain": [
       "array([['', '', '', '', ''],\n",
       "       ['', '', '', '', ''],\n",
       "       ['', '', '', '', ''],\n",
       "       ['', '', '', '', ''],\n",
       "       ['', '', '', '', '']], dtype='<U1')"
      ]
     },
     "execution_count": 69,
     "metadata": {},
     "output_type": "execute_result"
    }
   ],
   "source": [
    "e"
   ]
  },
  {
   "cell_type": "code",
   "execution_count": 20,
   "metadata": {},
   "outputs": [
    {
     "ename": "NameError",
     "evalue": "name 'i_col' is not defined",
     "output_type": "error",
     "traceback": [
      "\u001b[1;31m---------------------------------------------------------------------------\u001b[0m",
      "\u001b[1;31mNameError\u001b[0m                                 Traceback (most recent call last)",
      "\u001b[1;32m<ipython-input-20-c4da1e0f5d17>\u001b[0m in \u001b[0;36m<module>\u001b[1;34m\u001b[0m\n\u001b[1;32m----> 1\u001b[1;33m \u001b[0mrange\u001b[0m\u001b[1;33m(\u001b[0m\u001b[0mi_col\u001b[0m\u001b[1;33m)\u001b[0m\u001b[1;33m\u001b[0m\u001b[1;33m\u001b[0m\u001b[0m\n\u001b[0m",
      "\u001b[1;31mNameError\u001b[0m: name 'i_col' is not defined"
     ]
    }
   ],
   "source": [
    "range(i_col)"
   ]
  },
  {
   "cell_type": "code",
   "execution_count": 56,
   "metadata": {},
   "outputs": [
    {
     "ename": "NameError",
     "evalue": "name 'array' is not defined",
     "output_type": "error",
     "traceback": [
      "\u001b[1;31m---------------------------------------------------------------------------\u001b[0m",
      "\u001b[1;31mNameError\u001b[0m                                 Traceback (most recent call last)",
      "\u001b[1;32m<ipython-input-56-7e71d2f093c1>\u001b[0m in \u001b[0;36m<module>\u001b[1;34m\u001b[0m\n\u001b[1;32m----> 1\u001b[1;33m \u001b[0marray\u001b[0m\u001b[1;33m\u001b[0m\u001b[1;33m\u001b[0m\u001b[0m\n\u001b[0m",
      "\u001b[1;31mNameError\u001b[0m: name 'array' is not defined"
     ]
    }
   ],
   "source": [
    "array"
   ]
  },
  {
   "cell_type": "code",
   "execution_count": 82,
   "metadata": {},
   "outputs": [
    {
     "name": "stdout",
     "output_type": "stream",
     "text": [
      "holds(adjacent(x0, x5)).\n",
      "holds(adjacent(x0, x1)).\n",
      "holds(adjacent(x1, x6)).\n",
      "holds(adjacent(x1, x2)).\n",
      "holds(adjacent(x1, x0)).\n",
      "holds(adjacent(x2, x7)).\n",
      "holds(adjacent(x2, x3)).\n",
      "holds(adjacent(x2, x1)).\n",
      "holds(adjacent(x3, x8)).\n",
      "holds(adjacent(x3, x4)).\n",
      "holds(adjacent(x3, x2)).\n",
      "holds(adjacent(x4, x9)).\n",
      "holds(adjacent(x4, x3)).\n",
      "holds(adjacent(x5, x10)).\n",
      "holds(adjacent(x5, x6)).\n",
      "holds(adjacent(x5, x0)).\n",
      "holds(adjacent(x6, x11)).\n",
      "holds(adjacent(x6, x7)).\n",
      "holds(adjacent(x6, x5)).\n",
      "holds(adjacent(x6, x1)).\n",
      "holds(adjacent(x7, x12)).\n",
      "holds(adjacent(x7, x8)).\n",
      "holds(adjacent(x7, x6)).\n",
      "holds(adjacent(x7, x2)).\n",
      "holds(adjacent(x8, x13)).\n",
      "holds(adjacent(x8, x9)).\n",
      "holds(adjacent(x8, x7)).\n",
      "holds(adjacent(x8, x3)).\n",
      "holds(adjacent(x9, x14)).\n",
      "holds(adjacent(x9, x8)).\n",
      "holds(adjacent(x9, x4)).\n",
      "holds(adjacent(x10, x15)).\n",
      "holds(adjacent(x10, x11)).\n",
      "holds(adjacent(x10, x5)).\n",
      "holds(adjacent(x11, x16)).\n",
      "holds(adjacent(x11, x12)).\n",
      "holds(adjacent(x11, x10)).\n",
      "holds(adjacent(x11, x6)).\n",
      "holds(adjacent(x12, x17)).\n",
      "holds(adjacent(x12, x13)).\n",
      "holds(adjacent(x12, x11)).\n",
      "holds(adjacent(x12, x7)).\n",
      "holds(adjacent(x13, x18)).\n",
      "holds(adjacent(x13, x14)).\n",
      "holds(adjacent(x13, x12)).\n",
      "holds(adjacent(x13, x8)).\n",
      "holds(adjacent(x14, x19)).\n",
      "holds(adjacent(x14, x13)).\n",
      "holds(adjacent(x14, x9)).\n",
      "holds(adjacent(x15, x20)).\n",
      "holds(adjacent(x15, x16)).\n",
      "holds(adjacent(x15, x10)).\n",
      "holds(adjacent(x16, x21)).\n",
      "holds(adjacent(x16, x17)).\n",
      "holds(adjacent(x16, x15)).\n",
      "holds(adjacent(x16, x11)).\n",
      "holds(adjacent(x17, x22)).\n",
      "holds(adjacent(x17, x18)).\n",
      "holds(adjacent(x17, x16)).\n",
      "holds(adjacent(x17, x12)).\n",
      "holds(adjacent(x18, x23)).\n",
      "holds(adjacent(x18, x19)).\n",
      "holds(adjacent(x18, x17)).\n",
      "holds(adjacent(x18, x13)).\n",
      "holds(adjacent(x19, x24)).\n",
      "holds(adjacent(x19, x18)).\n",
      "holds(adjacent(x19, x14)).\n",
      "holds(adjacent(x20, x15)).\n",
      "holds(adjacent(x20, x21)).\n",
      "holds(adjacent(x21, x16)).\n",
      "holds(adjacent(x21, x22)).\n",
      "holds(adjacent(x21, x20)).\n",
      "holds(adjacent(x22, x17)).\n",
      "holds(adjacent(x22, x23)).\n",
      "holds(adjacent(x22, x21)).\n",
      "holds(adjacent(x23, x18)).\n",
      "holds(adjacent(x23, x24)).\n",
      "holds(adjacent(x23, x22)).\n",
      "holds(adjacent(x24, x19)).\n",
      "holds(adjacent(x24, x23)).\n"
     ]
    }
   ],
   "source": [
    "for i in s:\n",
    "    print(i)"
   ]
  },
  {
   "cell_type": "code",
   "execution_count": null,
   "metadata": {},
   "outputs": [],
   "source": []
  }
 ],
 "metadata": {
  "kernelspec": {
   "display_name": "Python 3",
   "language": "python",
   "name": "python3"
  },
  "language_info": {
   "codemirror_mode": {
    "name": "ipython",
    "version": 3
   },
   "file_extension": ".py",
   "mimetype": "text/x-python",
   "name": "python",
   "nbconvert_exporter": "python",
   "pygments_lexer": "ipython3",
   "version": "3.7.3"
  }
 },
 "nbformat": 4,
 "nbformat_minor": 2
}
