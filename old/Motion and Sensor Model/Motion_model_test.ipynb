{
 "cells": [
  {
   "cell_type": "code",
   "execution_count": 2,
   "metadata": {},
   "outputs": [],
   "source": [
    "from math import sqrt, sin, cos, pi, exp, \n",
    "import matplotlib.pyplot as plt"
   ]
  },
  {
   "cell_type": "code",
   "execution_count": 3,
   "metadata": {},
   "outputs": [],
   "source": [
    "import numpy as np\n",
    "import random\n",
    "\n",
    "def velocity_motion_model(pose, previous_pose,control, time, prob):\n",
    "    #poses are vectors containing x, y and angular values, respectively\n",
    "    #control is a vector containing translational velocity and rotational velocity, respectively\n",
    "    #time is time taken for transition\n",
    "    #velocity model used for probabilistic motion planning\n",
    "    #prob is the probability function to use\n",
    "    x, y, theta = previous_pose\n",
    "    x_new, y_new, theta_new = pose\n",
    "    trans_vel, rot_vel = control\n",
    "    a_1 = 0.01\n",
    "    a_2 = 0.01\n",
    "    a_3 = 0.01\n",
    "    a_4 = 0.01\n",
    "    a_5 = 0.01\n",
    "    a_6 = 0.01\n",
    "\n",
    "    error_free_control_numerator = (x-x_new)*np.cos(rot_vel)+(y-y_new)*np.sin(rot_vel)\n",
    "    error_free_control_denominator = (x-x_new)*np.cos(rot_vel)-(y-y_new)*np.sin(rot_vel)\n",
    "    error_free_control = 0.5*error_free_control_numerator/error_free_control_denominator\n",
    "\n",
    "    x_center = ((x+x_new)/2) + error_free_control*(y-y_new)\n",
    "    y_center = ((y+y_new)/2) + error_free_control*(x_new-x)\n",
    "    r_center = np.sqrt((x-x_center)*(x-x_center)+(y-y_center)*(y-y_center))\n",
    "\n",
    "    angle_change = np.arctan2(y_new-y_center, x_new - x_center) - np.arctan2(y-y_center, x -x_center)\n",
    "\n",
    "    error_free_trans_vel = angle_change/time * r_center\n",
    "    error_free_rot_vel = angle_change/time\n",
    "    rand_term = (theta-theta_new)/time - error_free_rot_vel\n",
    "\n",
    "    trans_error_prob = prob(trans_vel-error_free_trans_vel, a_1*trans_vel*trans_vel + a_2*rot_vel*rot_vel)\n",
    "    rot_error_prob = prob(rot_vel-error_free_rot_vel,a_3*trans_vel*trans_vel + a_4*rot_vel*rot_vel)\n",
    "    rand_term_prob = prob(rand_term, a_5*trans_vel*trans_vel + a_6*rot_vel*rot_vel)\n",
    "\n",
    "    return trans_error_prob * rot_error_prob * rand_term_prob\n",
    "\n"
   ]
  },
  {
   "cell_type": "code",
   "execution_count": 4,
   "metadata": {},
   "outputs": [],
   "source": [
    "def prob_norm(argument,variance):\n",
    "    return 1/np.sqrt(2*np.pi*variance) * exp(-0.5*argument*argument/variance)\n",
    "\n",
    "def prob_triangle(argument, variance):\n",
    "    return max(0, (1/(sqrt(6)*np.sqrt(variance)) - abs(argument)/6*variance ))\n"
   ]
  },
  {
   "cell_type": "code",
   "execution_count": 5,
   "metadata": {},
   "outputs": [],
   "source": [
    "def sample_motion_model_velocity(previous_pose,control,time, sample):\n",
    "\n",
    "    x, y, theta = previous_pose\n",
    "    trans_vel, rot_vel = control\n",
    "\n",
    "    a_1 = 0.01\n",
    "    a_2 = 0.01\n",
    "    a_3 = 0.01\n",
    "    a_4 = 0.01\n",
    "    a_5 = 0.01\n",
    "    a_6 = 0.01\n",
    "\n",
    "    trans_error_prob = trans_vel + sample(a_1*trans_vel*trans_vel + a_2*rot_vel*rot_vel)\n",
    "    rot_error_prob = rot_vel + sample(a_3*trans_vel*trans_vel + a_4*rot_vel*rot_vel)\n",
    "    rand_term_prob = sample(a_5*trans_vel*trans_vel + a_6*rot_vel*rot_vel)\n",
    "\n",
    "    x_new = x-(trans_error_prob/rot_error_prob)*sin(theta)+(trans_error_prob/rot_error_prob)*sin(theta+rot_error_prob*time)\n",
    "    y_new = y+(trans_error_prob/rot_error_prob)*cos(theta)-(trans_error_prob/rot_error_prob)*cos(theta+rot_error_prob*time)\n",
    "    theta_new = theta+rot_error_prob*time + rand_term_prob*time\n",
    "\n",
    "    return x_new, y_new, theta_new\n"
   ]
  },
  {
   "cell_type": "code",
   "execution_count": 6,
   "metadata": {},
   "outputs": [],
   "source": [
    "def sample_norm(variance):\n",
    "    sqrt_variance = sqrt(variance)\n",
    "    sum_list = []\n",
    "    for i in range(0,12):\n",
    "        sum_list.append(random.uniform(-sqrt_variance, sqrt_variance))\n",
    "    return 0.5 * sum(sum_list)\n",
    "\n",
    "def sample_triangle(variance):\n",
    "    sqrt_variance = sqrt(variance)\n",
    "    return (sqrt(6)/2) * (random.uniform(-sqrt_variance, sqrt_variance) + random.uniform(-sqrt_variance, sqrt_variance))"
   ]
  },
  {
   "cell_type": "code",
   "execution_count": 7,
   "metadata": {},
   "outputs": [],
   "source": [
    "time = 1"
   ]
  },
  {
   "cell_type": "code",
   "execution_count": 8,
   "metadata": {},
   "outputs": [],
   "source": [
    "previous_pose = [0,0,0.1]\n",
    "control = [2,3,pi]\n"
   ]
  },
  {
   "cell_type": "code",
   "execution_count": 101,
   "metadata": {},
   "outputs": [
    {
     "data": {
      "text/plain": [
       "<matplotlib.collections.PathCollection at 0x26bab03ae10>"
      ]
     },
     "execution_count": 101,
     "metadata": {},
     "output_type": "execute_result"
    },
    {
     "data": {
      "image/png": "[encoded data removed]",
      "text/plain": [
       "<Figure size 432x288 with 1 Axes>"
      ]
     },
     "metadata": {
      "needs_background": "light"
     },
     "output_type": "display_data"
    }
   ],
   "source": [
    "x_list = []\n",
    "y_list = []\n",
    "theta_list = []\n",
    "for i in range(0,100):\n",
    "    x,y,theta= sample_motion_model_odom(previous_pose,control,sample_norm)\n",
    "    x_list.append(x)\n",
    "    y_list.append(y)\n",
    "    theta_list.append(theta)\n",
    "    \n",
    "plt.scatter(x_list,y_list)\n",
    "plt.scatter(previous_pose[0],previous_pose[1])"
   ]
  },
  {
   "cell_type": "code",
   "execution_count": null,
   "metadata": {},
   "outputs": [],
   "source": [
    "plt.scatter(x_list,y_list)\n",
    "plt.scatter(0,0)"
   ]
  },
  {
   "cell_type": "code",
   "execution_count": null,
   "metadata": {},
   "outputs": [],
   "source": [
    "velocity_motion_model([0,1,0],[0,0,0],[1,0],1,prob_norm)"
   ]
  },
  {
   "cell_type": "code",
   "execution_count": 45,
   "metadata": {},
   "outputs": [],
   "source": [
    " a = np.linspace(-5,5,1000)"
   ]
  },
  {
   "cell_type": "code",
   "execution_count": 51,
   "metadata": {},
   "outputs": [
    {
     "data": {
      "text/plain": [
       "<matplotlib.colorbar.Colorbar at 0x29e0447f470>"
      ]
     },
     "execution_count": 51,
     "metadata": {},
     "output_type": "execute_result"
    },
    {
     "data": {
      "image/png": "[encoded data removed]",
      "text/plain": [
       "<Figure size 432x288 with 2 Axes>"
      ]
     },
     "metadata": {
      "needs_background": "light"
     },
     "output_type": "display_data"
    }
   ],
   "source": [
    "probs = []\n",
    "for i in range(0,1000):\n",
    "    for j in range(0,1000):\n",
    "        probs.append(odom_motion_model([a[i],a[j],0],[0,0,0],[0,0,0,0,0,0],prob_norm))\n",
    "    \n",
    "new_probs = np.array(probs)\n",
    "new_probs = np.reshape(new_probs,[1000,1000])\n",
    "new_probs = np.divide(new_probs, sum(sum(new_probs)))\n",
    "plt.pcolormesh(new_probs, cmap = 'hot')\n",
    "plt.colorbar()"
   ]
  },
  {
   "cell_type": "code",
   "execution_count": null,
   "metadata": {},
   "outputs": [],
   "source": [
    "new_probs = np.array(probs)"
   ]
  },
  {
   "cell_type": "code",
   "execution_count": null,
   "metadata": {},
   "outputs": [],
   "source": [
    "new_probs = np.ravel(new_probs)\n",
    "new_probs = np.reshape(new_probs,[100,100])\n"
   ]
  },
  {
   "cell_type": "code",
   "execution_count": null,
   "metadata": {},
   "outputs": [],
   "source": [
    "plt.imshow(new_probs)\n",
    "plt.plot(0,0,markersize = 2000)"
   ]
  },
  {
   "cell_type": "code",
   "execution_count": null,
   "metadata": {},
   "outputs": [],
   "source": [
    "sum(sum(new_probs))"
   ]
  },
  {
   "cell_type": "code",
   "execution_count": 31,
   "metadata": {},
   "outputs": [],
   "source": [
    "def odom_motion_model(pose,previous_pose,control,prob):\n",
    "    #poses and control are vectors containing x, y and angular values, respectively\n",
    "    #time is time taken for transition\n",
    "    #prob is the probability function to use\n",
    "    a_1 = 0.01\n",
    "    a_2 = 0.01\n",
    "    a_3 = 0.01\n",
    "    a_4 = 0.01\n",
    "\n",
    "    x, y, theta = previous_pose\n",
    "    x_new, y_new, theta_new = pose\n",
    "    x_int_new, y_int_new, theta_int_new, x_int, y_int, theta_int =  control\n",
    "\n",
    "    delta_trans = sqrt((x_int_new-x_int)*(x_int_new-x_int)+(y_int_new-y_int)*(y_int_new-y_int))\n",
    "    delta_rotone = np.arctan2(y_int_new-y_int,x_int_new-x_int)-theta_int_new\n",
    "    delta_rottwo = theta_int_new-theta_int-delta_rotone\n",
    "\n",
    "    delta_hat_trans = sqrt((x-x_new)*(x-x_new)+(y-y_new)*(y-y_new))\n",
    "    delta_hat_rotone = np.arctan2(y_new-y,x_new-x)-theta_int\n",
    "    delta_hat_rottwo = theta_new-theta-delta_hat_rotone\n",
    "\n",
    "    prob_one = prob(delta_trans-delta_hat_trans, a_3*delta_hat_trans*delta_hat_trans+a_4*delta_hat_rotone*delta_hat_rotone+a_4*delta_hat_rottwo*delta_hat_rottwo)\n",
    "    prob_two = prob(delta_rotone-delta_hat_rotone, a_1*delta_hat_rotone*delta_hat_rotone+a_2*delta_hat_trans*delta_hat_trans)\n",
    "    prob_three = prob(delta_rottwo-delta_hat_rottwo, a_1*delta_hat_rottwo*delta_hat_rottwo+a_2*delta_hat_trans*delta_hat_trans)\n",
    "\n",
    "    return prob_one*prob_two*prob_three\n",
    "\n",
    "\n",
    "def sample_motion_model_odom(previous_pose,control,sample):\n",
    "\n",
    "    a_1 = 0.01\n",
    "    a_2 = 0.01\n",
    "    a_3 = 0.01\n",
    "    a_4 = 0.01\n",
    "\n",
    "    x, y, theta = previous_pose\n",
    "    x_int_new, y_int_new, theta_int_new, x_int, y_int, theta_int =  control\n",
    "\n",
    "    delta_trans = sqrt((x_int_new-x_int)*(x_int_new-x_int)+(y_int_new-y_int)*(y_int_new-y_int))\n",
    "    delta_rotone = np.arctan2(y_int_new-y_int,x_int_new-x_int)-theta_int_new\n",
    "    delta_rottwo = theta_int_new-theta_int-delta_rotone\n",
    "\n",
    "    delta_hat_rotone = delta_rotone - sample(a_1*delta_rotone*delta_rotone+a_2*delta_trans*delta_trans)\n",
    "    delta_hat_trans = delta_trans - sample(a_3*delta_trans*delta_trans+a_4*delta_rotone*delta_rotone+a_4*delta_rottwo*delta_rottwo)\n",
    "    delta_hat_rottwo = delta_rottwo - sample(a_1*delta_rottwo*delta_rottwo+a_2*delta_trans*delta_trans)\n",
    "\n",
    "    x_new = x+delta_hat_trans*cos(theta+delta_hat_rotone)\n",
    "    y_new = y+delta_hat_trans*sin(theta+delta_hat_rotone)\n",
    "    theta_new = theta + delta_hat_rotone+delta_hat_rottwo\n",
    "\n",
    "    return x_new, y_new, theta_new"
   ]
  },
  {
   "cell_type": "code",
   "execution_count": 54,
   "metadata": {},
   "outputs": [
    {
     "data": {
      "text/plain": [
       "<matplotlib.collections.PathCollection at 0x29e045535c0>"
      ]
     },
     "execution_count": 54,
     "metadata": {},
     "output_type": "execute_result"
    },
    {
     "data": {
      "image/png": "[encoded data removed]",
      "text/plain": [
       "<Figure size 432x288 with 1 Axes>"
      ]
     },
     "metadata": {
      "needs_background": "light"
     },
     "output_type": "display_data"
    }
   ],
   "source": [
    "x_list = []\n",
    "y_list = []\n",
    "theta_list = []\n",
    "previous_pose = [0,0,0]\n",
    "control = [2,3,pi,0,0,pi]\n",
    "for i in range(0,100):\n",
    "    x,y,theta= sample_motion_model_odom(previous_pose,control,sample_norm)\n",
    "    x_list.append(x)\n",
    "    y_list.append(y)\n",
    "    theta_list.append(theta)\n",
    "    \n",
    "plt.scatter(x_list,y_list)\n",
    "plt.scatter(previous_pose[0],previous_pose[1])"
   ]
  },
  {
   "cell_type": "code",
   "execution_count": null,
   "metadata": {},
   "outputs": [],
   "source": []
  },
  {
   "cell_type": "code",
   "execution_count": 38,
   "metadata": {},
   "outputs": [
    {
     "data": {
      "text/plain": [
       "0.0015376908344753003"
      ]
     },
     "execution_count": 38,
     "metadata": {},
     "output_type": "execute_result"
    }
   ],
   "source": [
    "new_probs.maxx()"
   ]
  },
  {
   "cell_type": "code",
   "execution_count": null,
   "metadata": {},
   "outputs": [],
   "source": []
  }
 ],
 "metadata": {
  "kernelspec": {
   "display_name": "Python 3",
   "language": "python",
   "name": "python3"
  },
  "language_info": {
   "codemirror_mode": {
    "name": "ipython",
    "version": 3
   },
   "file_extension": ".py",
   "mimetype": "text/x-python",
   "name": "python",
   "nbconvert_exporter": "python",
   "pygments_lexer": "ipython3",
   "version": "3.7.3"
  }
 },
 "nbformat": 4,
 "nbformat_minor": 2
}
