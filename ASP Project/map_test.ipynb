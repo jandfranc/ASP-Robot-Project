{
 "cells": [
  {
   "cell_type": "code",
   "execution_count": 10,
   "metadata": {},
   "outputs": [],
   "source": [
    "from PIL import Image\n",
    "import numpy as np\n",
    "import ma"
   ]
  },
  {
   "cell_type": "code",
   "execution_count": 11,
   "metadata": {},
   "outputs": [
    {
     "data": {
      "text/plain": [
       "'6.1.0'"
      ]
     },
     "execution_count": 11,
     "metadata": {},
     "output_type": "execute_result"
    }
   ],
   "source": [
    "PIL.PILLOW_VERSION"
   ]
  },
  {
   "cell_type": "code",
   "execution_count": 12,
   "metadata": {},
   "outputs": [],
   "source": [
    "I = np.asarray(Image.open('map.jpeg'))"
   ]
  },
  {
   "cell_type": "code",
   "execution_count": 13,
   "metadata": {},
   "outputs": [
    {
     "data": {
      "text/plain": [
       "array([[[205, 205, 205],\n",
       "        [205, 205, 205],\n",
       "        [205, 205, 205],\n",
       "        ...,\n",
       "        [205, 205, 205],\n",
       "        [205, 205, 205],\n",
       "        [205, 205, 205]],\n",
       "\n",
       "       [[205, 205, 205],\n",
       "        [205, 205, 205],\n",
       "        [205, 205, 205],\n",
       "        ...,\n",
       "        [205, 205, 205],\n",
       "        [205, 205, 205],\n",
       "        [205, 205, 205]],\n",
       "\n",
       "       [[205, 205, 205],\n",
       "        [205, 205, 205],\n",
       "        [205, 205, 205],\n",
       "        ...,\n",
       "        [205, 205, 205],\n",
       "        [205, 205, 205],\n",
       "        [205, 205, 205]],\n",
       "\n",
       "       ...,\n",
       "\n",
       "       [[205, 205, 205],\n",
       "        [205, 205, 205],\n",
       "        [205, 205, 205],\n",
       "        ...,\n",
       "        [205, 205, 205],\n",
       "        [205, 205, 205],\n",
       "        [205, 205, 205]],\n",
       "\n",
       "       [[205, 205, 205],\n",
       "        [205, 205, 205],\n",
       "        [205, 205, 205],\n",
       "        ...,\n",
       "        [205, 205, 205],\n",
       "        [205, 205, 205],\n",
       "        [205, 205, 205]],\n",
       "\n",
       "       [[205, 205, 205],\n",
       "        [205, 205, 205],\n",
       "        [205, 205, 205],\n",
       "        ...,\n",
       "        [205, 205, 205],\n",
       "        [205, 205, 205],\n",
       "        [205, 205, 205]]], dtype=uint8)"
      ]
     },
     "execution_count": 13,
     "metadata": {},
     "output_type": "execute_result"
    }
   ],
   "source": [
    "I"
   ]
  },
  {
   "cell_type": "code",
   "execution_count": 17,
   "metadata": {},
   "outputs": [],
   "source": [
    "def map_read(map):\n",
    "    map_arr = np.asarray(Image.open('map.jpeg'))\n",
    "    result = np.copy(map_arr[:, :, 0])\n",
    "    for i_height in range(0,result.shape[0]):\n",
    "        for i_width in range(0,result.shape[1]):\n",
    "            if result[i_height][i_width] < 100:\n",
    "                result[i_height][i_width] = 0\n",
    "            elif result[i_height][i_width] >225:\n",
    "                result [i_height][i_width] = 1\n",
    "            else:\n",
    "                result[i_height][i_width] = 2\n",
    "    return result\n"
   ]
  },
  {
   "cell_type": "code",
   "execution_count": 18,
   "metadata": {},
   "outputs": [],
   "source": [
    "e = map_read('map.jpeg')"
   ]
  },
  {
   "cell_type": "code",
   "execution_count": 19,
   "metadata": {},
   "outputs": [
    {
     "data": {
      "text/plain": [
       "array([[2, 2, 2, ..., 2, 2, 2],\n",
       "       [2, 2, 2, ..., 2, 2, 2],\n",
       "       [2, 2, 2, ..., 2, 2, 2],\n",
       "       ...,\n",
       "       [2, 2, 2, ..., 2, 2, 2],\n",
       "       [2, 2, 2, ..., 2, 2, 2],\n",
       "       [2, 2, 2, ..., 2, 2, 2]], dtype=uint8)"
      ]
     },
     "execution_count": 19,
     "metadata": {},
     "output_type": "execute_result"
    }
   ],
   "source": [
    "e"
   ]
  },
  {
   "cell_type": "code",
   "execution_count": null,
   "metadata": {},
   "outputs": [],
   "source": []
  }
 ],
 "metadata": {
  "kernelspec": {
   "display_name": "Python 3",
   "language": "python",
   "name": "python3"
  },
  "language_info": {
   "codemirror_mode": {
    "name": "ipython",
    "version": 3
   },
   "file_extension": ".py",
   "mimetype": "text/x-python",
   "name": "python",
   "nbconvert_exporter": "python",
   "pygments_lexer": "ipython3",
   "version": "3.7.3"
  }
 },
 "nbformat": 4,
 "nbformat_minor": 2
}
