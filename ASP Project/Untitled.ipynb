{
 "cells": [
  {
   "cell_type": "code",
   "execution_count": 2,
   "metadata": {},
   "outputs": [
    {
     "name": "stdout",
     "output_type": "stream",
     "text": [
      "bad path\n"
     ]
    },
    {
     "ename": "IndexError",
     "evalue": "list index out of range",
     "output_type": "error",
     "traceback": [
      "\u001b[1;31m---------------------------------------------------------------------------\u001b[0m",
      "\u001b[1;31mIndexError\u001b[0m                                Traceback (most recent call last)",
      "\u001b[1;32m<ipython-input-2-aa956755bcaa>\u001b[0m in \u001b[0;36m<module>\u001b[1;34m\u001b[0m\n\u001b[0;32m     94\u001b[0m                         \u001b[0mnext_goal\u001b[0m \u001b[1;33m=\u001b[0m \u001b[0mit_goal\u001b[0m\u001b[1;33m[\u001b[0m\u001b[1;36m0\u001b[0m\u001b[1;33m]\u001b[0m\u001b[1;33m\u001b[0m\u001b[1;33m\u001b[0m\u001b[0m\n\u001b[0;32m     95\u001b[0m \u001b[1;33m\u001b[0m\u001b[0m\n\u001b[1;32m---> 96\u001b[1;33m         \u001b[0mloc_route\u001b[0m \u001b[1;33m=\u001b[0m \u001b[0mmd\u001b[0m\u001b[1;33m.\u001b[0m\u001b[0mchoose_route_look_ahead\u001b[0m\u001b[1;33m(\u001b[0m\u001b[0mrooms\u001b[0m\u001b[1;33m[\u001b[0m\u001b[0masp_route\u001b[0m\u001b[1;33m[\u001b[0m\u001b[0mit\u001b[0m\u001b[1;33m]\u001b[0m\u001b[1;33m]\u001b[0m\u001b[1;33m.\u001b[0m\u001b[0mroombox\u001b[0m\u001b[1;33m,\u001b[0m\u001b[0mrooms\u001b[0m\u001b[1;33m[\u001b[0m\u001b[0masp_route\u001b[0m\u001b[1;33m[\u001b[0m\u001b[0mit\u001b[0m\u001b[1;33m]\u001b[0m\u001b[1;33m]\u001b[0m\u001b[1;33m.\u001b[0m\u001b[0mmarkov_plans\u001b[0m\u001b[1;33m[\u001b[0m\u001b[0masp_route\u001b[0m\u001b[1;33m[\u001b[0m\u001b[0mit\u001b[0m\u001b[1;33m+\u001b[0m\u001b[1;36m1\u001b[0m\u001b[1;33m]\u001b[0m\u001b[1;33m]\u001b[0m\u001b[1;33m[\u001b[0m\u001b[1;36m0\u001b[0m\u001b[1;33m]\u001b[0m\u001b[1;33m,\u001b[0m\u001b[0mnext_start\u001b[0m\u001b[1;33m,\u001b[0m\u001b[1;33m[\u001b[0m\u001b[0mnext_goal\u001b[0m\u001b[1;33m]\u001b[0m\u001b[1;33m)\u001b[0m\u001b[1;33m\u001b[0m\u001b[1;33m\u001b[0m\u001b[0m\n\u001b[0m\u001b[0;32m     97\u001b[0m         \u001b[0mglobal_route\u001b[0m \u001b[1;33m=\u001b[0m \u001b[1;33m[\u001b[0m\u001b[1;33m]\u001b[0m\u001b[1;33m\u001b[0m\u001b[1;33m\u001b[0m\u001b[0m\n\u001b[0;32m     98\u001b[0m         \u001b[1;32mfor\u001b[0m \u001b[0mloc_point\u001b[0m \u001b[1;32min\u001b[0m \u001b[0mloc_route\u001b[0m\u001b[1;33m:\u001b[0m\u001b[1;33m\u001b[0m\u001b[1;33m\u001b[0m\u001b[0m\n",
      "\u001b[1;31mIndexError\u001b[0m: list index out of range"
     ]
    }
   ],
   "source": [
    "import markov_decision as md\n",
    "import read_map as rm\n",
    "import utilASP as ua\n",
    "\n",
    "\n",
    "map_arr = rm.map_read('maps/corridor.png')\n",
    "\n",
    "room_list, doors = rm.find_rooms_and_doors(map_arr)\n",
    "\n",
    "rooms = rm.create_room_arr(room_list,doors,map_arr)\n",
    "\n",
    "asp_rooms = rm.create_asp(rooms)\n",
    "\n",
    "\n",
    "\n",
    "asp_doc = ua.read_file_sp_to_list('grid_move_template.sp')\n",
    "\n",
    "constants_list, sorts_list, predicates_list, rules_list, display_list = ua.split_asp_sections(asp_doc)\n",
    "\n",
    "rules_list = ua.add_rules(rules_list,asp_rooms)\n",
    "\n",
    "start_room = 0\n",
    "start_point = [10,10]\n",
    "goal_point = [10,140]\n",
    "init_goal = 2\n",
    "rules_list = ua.add_rules(rules_list,[f'holds(at(r,x{start_room}),0).','goal(I) :- holds(at(r,x2),I).'])\n",
    "\n",
    "if start_room != init_goal:\n",
    "    new_asp_doc = ua.add_sections_together(constants_list, sorts_list, predicates_list, rules_list, display_list)\n",
    "\n",
    "    ua.write_list_to_file('first_test.sp',new_asp_doc)\n",
    "\n",
    "    min_route = ua.find_minimal_answersets('first_test.sp','temp.sp')\n",
    "\n",
    "    asp_route = [start_room]\n",
    "    for item in min_route[0]:\n",
    "        asp_route.append(int(item[15]))\n",
    "else:\n",
    "    asp_route = start_room\n",
    "\n",
    "\n",
    "route = []\n",
    "for it in range(0,len(asp_route)):\n",
    "    if asp_route[it] == asp_route[0] and len(asp_route) != 1:\n",
    "        if len(rooms[asp_route[it]].goals) == 1:\n",
    "            loc_route = md.choose_route_look_ahead(rooms[asp_route[it]].roombox,rooms[asp_route[it]].markov_plans[0][0],rooms[asp_route[it]].start_point_calc(start_point),[rooms[asp_route[it]].goals[0][0]])\n",
    "            global_route = []\n",
    "            for loc_point in loc_route:\n",
    "                global_route.append(rooms[asp_route[it]].convert_route_global(loc_point))\n",
    "            route = route + global_route\n",
    "    elif len(asp_route)==1:\n",
    "        plan_same = md.markov_reward(rooms[asp_route[it]].roombox,rooms[asp_route[it]].reward_dict,1, goal_point, previous_values = 'empty',extra_val = -1000)\n",
    "        for plan_iter in range(0,100):\n",
    "            plan_same = md.markov_reward(rooms[asp_route[it]].roombox,rooms[asp_route[it]].reward_dict,1, goal_point, previous_values = plan_same,extra_val = -1000)\n",
    "        loc_route = md.choose_route_look_ahead(rooms[asp_route[it]].roombox,plan_same,start_point,[goal_point])\n",
    "        global_route = []\n",
    "        for loc_point in loc_route:\n",
    "            global_route.append(rooms[asp_route[it]].convert_route_global(loc_point))\n",
    "        route = route + global_route\n",
    "\n",
    "    elif it == len(asp_route)-1:\n",
    "        prev_room = rooms[asp_route[it]-1].room\n",
    "        for connect_room in rooms[asp_route[it]].connections:\n",
    "            if prev_room == connect_room[0]:\n",
    "                prev_door = connect_room[1]\n",
    "        for loc_door in rooms[asp_route[it]].local_doors:\n",
    "            if loc_door[2] == prev_door:\n",
    "                for it_goal in rooms[asp_route[it]].goals:\n",
    "                    if it_goal[1] == loc_door[2]:\n",
    "                        next_start = it_goal[0]\n",
    "\n",
    "        loc_route = md.choose_route_look_ahead(rooms[asp_route[it]].roombox,rooms[asp_route[it]].markov_plans[asp_route[it+1]][0],next_start,[goal_point])\n",
    "        global_route = []\n",
    "        for loc_point in loc_route:\n",
    "            global_route.append(rooms[asp_route[it]].convert_route_global(loc_point))\n",
    "        route = route + global_route\n",
    "\n",
    "    else:\n",
    "        prev_room = rooms[asp_route[it]-1].room\n",
    "        next_room = rooms[asp_route[it]+1].room\n",
    "        for connect_room in rooms[asp_route[it]].connections:\n",
    "            if prev_room == connect_room[0]:\n",
    "                prev_door = connect_room[1]\n",
    "            if next_room == connect_room[0]:\n",
    "                next_door = connect_room[1]\n",
    "        for loc_door in rooms[asp_route[it]].local_doors:\n",
    "            if loc_door[2] == prev_door:\n",
    "                for it_goal in rooms[asp_route[it]].goals:\n",
    "                    if it_goal[1] == loc_door[2]:\n",
    "                        next_start = it_goal[0]\n",
    "            if loc_door[2] == next_door:\n",
    "                for it_goal in rooms[asp_route[it]].goals:\n",
    "                    if it_goal[1] == loc_door[2]:\n",
    "                        next_goal = it_goal[0]\n",
    "\n",
    "        loc_route = md.choose_route_look_ahead(rooms[asp_route[it]].roombox,rooms[asp_route[it]].markov_plans[asp_route[it+1][0]],next_start,[next_goal])\n",
    "        global_route = []\n",
    "        for loc_point in loc_route:\n",
    "            global_route.append(rooms[asp_route[it]].convert_route_global(loc_point))\n",
    "        route = route + global_route\n",
    "\n",
    "\n",
    "\n",
    "print(route)\n"
   ]
  },
  {
   "cell_type": "code",
   "execution_count": 13,
   "metadata": {},
   "outputs": [
    {
     "data": {
      "text/plain": [
       "<matplotlib.image.AxesImage at 0x2a8eb067a58>"
      ]
     },
     "execution_count": 13,
     "metadata": {},
     "output_type": "execute_result"
    },
    {
     "data": {
      "image/png": "[encoded data removed]",
      "text/plain": [
       "<Figure size 432x288 with 1 Axes>"
      ]
     },
     "metadata": {
      "needs_background": "light"
     },
     "output_type": "display_data"
    }
   ],
   "source": [
    "plt.imshow(rooms[0].markov_plans[0][0])"
   ]
  },
  {
   "cell_type": "code",
   "execution_count": 26,
   "metadata": {},
   "outputs": [
    {
     "data": {
      "text/plain": [
       "290.0"
      ]
     },
     "execution_count": 26,
     "metadata": {},
     "output_type": "execute_result"
    }
   ],
   "source": [
    "rooms[0].markov_plans[0][0][26][35]"
   ]
  },
  {
   "cell_type": "code",
   "execution_count": 27,
   "metadata": {},
   "outputs": [
    {
     "data": {
      "text/plain": [
       "[26, 35]"
      ]
     },
     "execution_count": 27,
     "metadata": {},
     "output_type": "execute_result"
    }
   ],
   "source": [
    "rooms[0].goals[0]"
   ]
  },
  {
   "cell_type": "code",
   "execution_count": null,
   "metadata": {},
   "outputs": [],
   "source": []
  }
 ],
 "metadata": {
  "kernelspec": {
   "display_name": "Python 3",
   "language": "python",
   "name": "python3"
  },
  "language_info": {
   "codemirror_mode": {
    "name": "ipython",
    "version": 3
   },
   "file_extension": ".py",
   "mimetype": "text/x-python",
   "name": "python",
   "nbconvert_exporter": "python",
   "pygments_lexer": "ipython3",
   "version": "3.7.3"
  }
 },
 "nbformat": 4,
 "nbformat_minor": 2
}
